{
 "cells": [
  {
   "cell_type": "code",
   "execution_count": 31,
   "metadata": {},
   "outputs": [],
   "source": [
    "from sklearn.model_selection import cross_val_score\n",
    "from sklearn.preprocessing import StandardScaler, OneHotEncoder\n",
    "from sklearn.pipeline import make_pipeline\n",
    "from sklearn.compose import make_column_transformer\n",
    "from sklearn.metrics import accuracy_score\n",
    "import pandas as pd\n",
    "from sklearn.linear_model import LogisticRegression\n",
    "from sklearn.svm import SVC, LinearSVC\n",
    "from xgboost import XGBClassifier\n",
    "from sklearn.ensemble import RandomForestClassifier, AdaBoostClassifier, GradientBoostingClassifier\n",
    "from sklearn.neighbors import KNeighborsClassifier"
   ]
  },
  {
   "cell_type": "code",
   "execution_count": 32,
   "metadata": {},
   "outputs": [],
   "source": [
    "x_train=pd.read_csv('scaled_X_train.csv')\n",
    "x_test=pd.read_csv('scaled_X_test.csv')\n",
    "y_train=pd.read_csv('y_train.csv')\n",
    "y_test=pd.read_csv('y_test.csv')"
   ]
  },
  {
   "cell_type": "markdown",
   "metadata": {},
   "source": [
    "**fitting logistic regression**"
   ]
  },
  {
   "cell_type": "code",
   "execution_count": null,
   "metadata": {},
   "outputs": [],
   "source": [
    "lg = LogisticRegression(max_iter=1000)\n",
    "\n",
    "cv_scores_lg = cross_val_score(lg, x_train, y_train, cv=10)\n",
    "print(f\"Cross-validation scores logistic regression: {cv_scores_lg}\")\n",
    "\n",
    "mean_cv_score_lg= cv_scores_lg.mean()\n",
    "std_cv_score_lg= cv_scores_lg.std()\n",
    "print(f\"mean_score_cv_lg:\", mean_cv_score_lg)\n",
    "print(f\"std_score_cv_lg:\" ,std_cv_score_lg)\n",
    "\n",
    "lg.fit(x_train, y_train)\n",
    "print(\"Logistic Regression model trained successfully.\")\n",
    "\n",
    "y_train_pred_lg = lg.predict(x_train)\n",
    "train_accuracy_lg = accuracy_score(y_train, y_train_pred_lg)\n",
    "print(f\"Training Accuracy of logistic regression: {train_accuracy_lg:.4f}\")\n",
    "\n",
    "y_test_pred_lg = lg.predict(x_test)\n",
    "test_accuracy_lg = accuracy_score(y_test, y_test_pred_lg)\n",
    "print(f\"Test Accuracy: {test_accuracy_lg:.4f}\")"
   ]
  },
  {
   "cell_type": "markdown",
   "metadata": {},
   "source": [
    "**fitting linearsvc**\n"
   ]
  },
  {
   "cell_type": "code",
   "execution_count": null,
   "metadata": {},
   "outputs": [],
   "source": [
    "svc = LinearSVC()\n",
    "\n",
    "cv_scores_svc = cross_val_score(svc, x_train, y_train, cv=10)\n",
    "print(f\"Cross-validation scores linear SVC: {cv_scores_svc}\")\n",
    "\n",
    "mean_cv_score_svc= cv_scores_svc.mean()\n",
    "std_cv_score_svc= cv_scores_svc.std()\n",
    "print(f\"mean_score_cv_svc:\", mean_cv_score_svc)\n",
    "print(f\"std_score_cv_svc:\" ,std_cv_score_svc)\n",
    "\n",
    "svc.fit(x_train, y_train)\n",
    "print(\"Linear SVC model trained successfully.\")\n",
    "\n",
    "y_train_pred_svc = svc.predict(x_train)\n",
    "train_accuracy_svc = accuracy_score(y_train, y_train_pred_svc)\n",
    "print(f\"Training Accuracy of Linear SVC: {train_accuracy_svc:.4f}\")\n",
    "\n",
    "y_test_pred_svc = svc.predict(x_test)\n",
    "test_accuracy_svc = accuracy_score(y_test, y_test_pred_svc)\n",
    "print(f\"Test Accuracy of Linear SVC: {test_accuracy_svc:.4f}\")"
   ]
  },
  {
   "cell_type": "markdown",
   "metadata": {},
   "source": [
    "**fitting XGBClassifier**"
   ]
  },
  {
   "cell_type": "code",
   "execution_count": null,
   "metadata": {},
   "outputs": [],
   "source": [
    "xgb = XGBClassifier(n_estimators=100, learning_rate=0.1, max_depth=6, use_label_encoder=False, eval_metric='logloss')\n",
    "\n",
    "cv_scores_xgb = cross_val_score(xgb, x_train, y_train, cv=10)\n",
    "print(f\"Cross-validation scores XGB: {cv_scores_xgb}\")\n",
    "\n",
    "mean_cv_score_xgb= cv_scores_xgb.mean()\n",
    "std_cv_score_xgb= cv_scores_xgb.std()\n",
    "print(f\"mean_score_cv_xgb:\", mean_cv_score_xgb)\n",
    "print(f\"std_score_cv_xgb:\" ,std_cv_score_xgb)\n",
    "\n",
    "xgb.fit(x_train, y_train)\n",
    "print(\"XGB model trained successfully.\")\n",
    "\n",
    "y_train_pred_xgb = xgb.predict(x_train)\n",
    "train_accuracy_xgb = accuracy_score(y_train, y_train_pred_xgb)\n",
    "print(f\"Training Accuracy of XGB: {train_accuracy_xgb:.4f}\")\n",
    "\n",
    "y_test_pred_xgb = xgb.predict(x_test)\n",
    "test_accuracy_xgb = accuracy_score(y_test, y_test_pred_xgb)\n",
    "print(f\"Test Accuracy of XGB: {test_accuracy_xgb:.4f}\")"
   ]
  },
  {
   "cell_type": "markdown",
   "metadata": {},
   "source": [
    "**KNN Classifier**"
   ]
  },
  {
   "cell_type": "code",
   "execution_count": null,
   "metadata": {},
   "outputs": [],
   "source": [
    "knn = KNeighborsClassifier(n_neighbors=5)\n",
    "\n",
    "cv_scores_knn = cross_val_score(knn, x_train, y_train, cv=10)\n",
    "print(f\"Cross-validation scores KNN: {cv_scores_knn}\")\n",
    "\n",
    "mean_cv_score_knn= cv_scores_knn.mean()\n",
    "std_cv_score_knn= cv_scores_knn.std()\n",
    "print(f\"mean_score_cv_knn:\", mean_cv_score_knn)\n",
    "print(f\"std_score_cv_knn:\" ,std_cv_score_knn)\n",
    "\n",
    "knn.fit(x_train, y_train)\n",
    "print(\"KNN model trained successfully.\")\n",
    "\n",
    "y_train_pred_knn =knn.predict(x_train)\n",
    "train_accuracy_knn = accuracy_score(y_train, y_train_pred_knn)\n",
    "print(f\"Training Accuracy of KNN: {train_accuracy_knn:.4f}\")\n",
    "\n",
    "y_test_pred_knn = knn.predict(x_test)\n",
    "test_accuracy_knn = accuracy_score(y_test, y_test_pred_knn)\n",
    "print(f\"Test Accuracy of KNN: {test_accuracy_knn:.4f}\")"
   ]
  },
  {
   "cell_type": "markdown",
   "metadata": {},
   "source": [
    "**fitting random forest classifier**"
   ]
  },
  {
   "cell_type": "code",
   "execution_count": 37,
   "metadata": {},
   "outputs": [
    {
     "name": "stderr",
     "output_type": "stream",
     "text": [
      "c:\\Users\\umert\\anaconda3\\envs\\bigdata_env\\lib\\site-packages\\sklearn\\base.py:1473: DataConversionWarning: A column-vector y was passed when a 1d array was expected. Please change the shape of y to (n_samples,), for example using ravel().\n",
      "  return fit_method(estimator, *args, **kwargs)\n",
      "c:\\Users\\umert\\anaconda3\\envs\\bigdata_env\\lib\\site-packages\\sklearn\\base.py:1473: DataConversionWarning: A column-vector y was passed when a 1d array was expected. Please change the shape of y to (n_samples,), for example using ravel().\n",
      "  return fit_method(estimator, *args, **kwargs)\n",
      "c:\\Users\\umert\\anaconda3\\envs\\bigdata_env\\lib\\site-packages\\sklearn\\base.py:1473: DataConversionWarning: A column-vector y was passed when a 1d array was expected. Please change the shape of y to (n_samples,), for example using ravel().\n",
      "  return fit_method(estimator, *args, **kwargs)\n",
      "c:\\Users\\umert\\anaconda3\\envs\\bigdata_env\\lib\\site-packages\\sklearn\\base.py:1473: DataConversionWarning: A column-vector y was passed when a 1d array was expected. Please change the shape of y to (n_samples,), for example using ravel().\n",
      "  return fit_method(estimator, *args, **kwargs)\n",
      "c:\\Users\\umert\\anaconda3\\envs\\bigdata_env\\lib\\site-packages\\sklearn\\base.py:1473: DataConversionWarning: A column-vector y was passed when a 1d array was expected. Please change the shape of y to (n_samples,), for example using ravel().\n",
      "  return fit_method(estimator, *args, **kwargs)\n",
      "c:\\Users\\umert\\anaconda3\\envs\\bigdata_env\\lib\\site-packages\\sklearn\\base.py:1473: DataConversionWarning: A column-vector y was passed when a 1d array was expected. Please change the shape of y to (n_samples,), for example using ravel().\n",
      "  return fit_method(estimator, *args, **kwargs)\n",
      "c:\\Users\\umert\\anaconda3\\envs\\bigdata_env\\lib\\site-packages\\sklearn\\base.py:1473: DataConversionWarning: A column-vector y was passed when a 1d array was expected. Please change the shape of y to (n_samples,), for example using ravel().\n",
      "  return fit_method(estimator, *args, **kwargs)\n",
      "c:\\Users\\umert\\anaconda3\\envs\\bigdata_env\\lib\\site-packages\\sklearn\\base.py:1473: DataConversionWarning: A column-vector y was passed when a 1d array was expected. Please change the shape of y to (n_samples,), for example using ravel().\n",
      "  return fit_method(estimator, *args, **kwargs)\n",
      "c:\\Users\\umert\\anaconda3\\envs\\bigdata_env\\lib\\site-packages\\sklearn\\base.py:1473: DataConversionWarning: A column-vector y was passed when a 1d array was expected. Please change the shape of y to (n_samples,), for example using ravel().\n",
      "  return fit_method(estimator, *args, **kwargs)\n",
      "c:\\Users\\umert\\anaconda3\\envs\\bigdata_env\\lib\\site-packages\\sklearn\\base.py:1473: DataConversionWarning: A column-vector y was passed when a 1d array was expected. Please change the shape of y to (n_samples,), for example using ravel().\n",
      "  return fit_method(estimator, *args, **kwargs)\n"
     ]
    },
    {
     "name": "stdout",
     "output_type": "stream",
     "text": [
      "Cross-validation scores Random Forest Classifier: [0.9545939  0.95821786 0.95075677 0.9479855  0.95331486 0.95352803\n",
      " 0.9496909  0.94734598 0.95011725 0.94776119]\n",
      "mean_score_cv_rfc: 0.951331224924196\n",
      "std_score_cv_rfc: 0.003333874373492677\n"
     ]
    },
    {
     "name": "stderr",
     "output_type": "stream",
     "text": [
      "c:\\Users\\umert\\anaconda3\\envs\\bigdata_env\\lib\\site-packages\\sklearn\\base.py:1473: DataConversionWarning: A column-vector y was passed when a 1d array was expected. Please change the shape of y to (n_samples,), for example using ravel().\n",
      "  return fit_method(estimator, *args, **kwargs)\n"
     ]
    },
    {
     "name": "stdout",
     "output_type": "stream",
     "text": [
      "Random Forest Classifier model trained successfully.\n",
      "Training Accuracy of Random Forest Classifier: 1.0000\n",
      "Test Accuracy of Random Forest Classifier: 0.9511\n"
     ]
    }
   ],
   "source": [
    "rfc = RandomForestClassifier(n_estimators=100, random_state=42)\n",
    "\n",
    "cv_scores_rfc = cross_val_score(rfc, x_train, y_train, cv=10)\n",
    "print(f\"Cross-validation scores Random Forest Classifier: {cv_scores_rfc}\")\n",
    "\n",
    "mean_cv_score_rfc= cv_scores_rfc.mean()\n",
    "std_cv_score_rfc= cv_scores_rfc.std()\n",
    "print(f\"mean_score_cv_rfc:\", mean_cv_score_rfc)\n",
    "print(f\"std_score_cv_rfc:\" ,std_cv_score_rfc)\n",
    "\n",
    "rfc.fit(x_train, y_train)\n",
    "print(\"Random Forest Classifier model trained successfully.\")\n",
    "\n",
    "y_train_pred_rfc =rfc.predict(x_train)\n",
    "train_accuracy_rfc = accuracy_score(y_train, y_train_pred_rfc)\n",
    "print(f\"Training Accuracy of Random Forest Classifier: {train_accuracy_rfc:.4f}\")\n",
    "\n",
    "y_test_pred_rfc= rfc.predict(x_test)\n",
    "test_accuracy_rfc = accuracy_score(y_test, y_test_pred_rfc)\n",
    "print(f\"Test Accuracy of Random Forest Classifier: {test_accuracy_rfc:.4f}\")"
   ]
  },
  {
   "cell_type": "markdown",
   "metadata": {},
   "source": [
    "**fitting ADABoost**"
   ]
  },
  {
   "cell_type": "code",
   "execution_count": 38,
   "metadata": {},
   "outputs": [
    {
     "name": "stderr",
     "output_type": "stream",
     "text": [
      "c:\\Users\\umert\\anaconda3\\envs\\bigdata_env\\lib\\site-packages\\sklearn\\utils\\validation.py:1339: DataConversionWarning: A column-vector y was passed when a 1d array was expected. Please change the shape of y to (n_samples, ), for example using ravel().\n",
      "  y = column_or_1d(y, warn=True)\n",
      "c:\\Users\\umert\\anaconda3\\envs\\bigdata_env\\lib\\site-packages\\sklearn\\ensemble\\_weight_boosting.py:527: FutureWarning: The SAMME.R algorithm (the default) is deprecated and will be removed in 1.6. Use the SAMME algorithm to circumvent this warning.\n",
      "  warnings.warn(\n",
      "c:\\Users\\umert\\anaconda3\\envs\\bigdata_env\\lib\\site-packages\\sklearn\\utils\\validation.py:1339: DataConversionWarning: A column-vector y was passed when a 1d array was expected. Please change the shape of y to (n_samples, ), for example using ravel().\n",
      "  y = column_or_1d(y, warn=True)\n",
      "c:\\Users\\umert\\anaconda3\\envs\\bigdata_env\\lib\\site-packages\\sklearn\\ensemble\\_weight_boosting.py:527: FutureWarning: The SAMME.R algorithm (the default) is deprecated and will be removed in 1.6. Use the SAMME algorithm to circumvent this warning.\n",
      "  warnings.warn(\n",
      "c:\\Users\\umert\\anaconda3\\envs\\bigdata_env\\lib\\site-packages\\sklearn\\utils\\validation.py:1339: DataConversionWarning: A column-vector y was passed when a 1d array was expected. Please change the shape of y to (n_samples, ), for example using ravel().\n",
      "  y = column_or_1d(y, warn=True)\n",
      "c:\\Users\\umert\\anaconda3\\envs\\bigdata_env\\lib\\site-packages\\sklearn\\ensemble\\_weight_boosting.py:527: FutureWarning: The SAMME.R algorithm (the default) is deprecated and will be removed in 1.6. Use the SAMME algorithm to circumvent this warning.\n",
      "  warnings.warn(\n",
      "c:\\Users\\umert\\anaconda3\\envs\\bigdata_env\\lib\\site-packages\\sklearn\\utils\\validation.py:1339: DataConversionWarning: A column-vector y was passed when a 1d array was expected. Please change the shape of y to (n_samples, ), for example using ravel().\n",
      "  y = column_or_1d(y, warn=True)\n",
      "c:\\Users\\umert\\anaconda3\\envs\\bigdata_env\\lib\\site-packages\\sklearn\\ensemble\\_weight_boosting.py:527: FutureWarning: The SAMME.R algorithm (the default) is deprecated and will be removed in 1.6. Use the SAMME algorithm to circumvent this warning.\n",
      "  warnings.warn(\n",
      "c:\\Users\\umert\\anaconda3\\envs\\bigdata_env\\lib\\site-packages\\sklearn\\utils\\validation.py:1339: DataConversionWarning: A column-vector y was passed when a 1d array was expected. Please change the shape of y to (n_samples, ), for example using ravel().\n",
      "  y = column_or_1d(y, warn=True)\n",
      "c:\\Users\\umert\\anaconda3\\envs\\bigdata_env\\lib\\site-packages\\sklearn\\ensemble\\_weight_boosting.py:527: FutureWarning: The SAMME.R algorithm (the default) is deprecated and will be removed in 1.6. Use the SAMME algorithm to circumvent this warning.\n",
      "  warnings.warn(\n",
      "c:\\Users\\umert\\anaconda3\\envs\\bigdata_env\\lib\\site-packages\\sklearn\\utils\\validation.py:1339: DataConversionWarning: A column-vector y was passed when a 1d array was expected. Please change the shape of y to (n_samples, ), for example using ravel().\n",
      "  y = column_or_1d(y, warn=True)\n",
      "c:\\Users\\umert\\anaconda3\\envs\\bigdata_env\\lib\\site-packages\\sklearn\\ensemble\\_weight_boosting.py:527: FutureWarning: The SAMME.R algorithm (the default) is deprecated and will be removed in 1.6. Use the SAMME algorithm to circumvent this warning.\n",
      "  warnings.warn(\n",
      "c:\\Users\\umert\\anaconda3\\envs\\bigdata_env\\lib\\site-packages\\sklearn\\utils\\validation.py:1339: DataConversionWarning: A column-vector y was passed when a 1d array was expected. Please change the shape of y to (n_samples, ), for example using ravel().\n",
      "  y = column_or_1d(y, warn=True)\n",
      "c:\\Users\\umert\\anaconda3\\envs\\bigdata_env\\lib\\site-packages\\sklearn\\ensemble\\_weight_boosting.py:527: FutureWarning: The SAMME.R algorithm (the default) is deprecated and will be removed in 1.6. Use the SAMME algorithm to circumvent this warning.\n",
      "  warnings.warn(\n",
      "c:\\Users\\umert\\anaconda3\\envs\\bigdata_env\\lib\\site-packages\\sklearn\\utils\\validation.py:1339: DataConversionWarning: A column-vector y was passed when a 1d array was expected. Please change the shape of y to (n_samples, ), for example using ravel().\n",
      "  y = column_or_1d(y, warn=True)\n",
      "c:\\Users\\umert\\anaconda3\\envs\\bigdata_env\\lib\\site-packages\\sklearn\\ensemble\\_weight_boosting.py:527: FutureWarning: The SAMME.R algorithm (the default) is deprecated and will be removed in 1.6. Use the SAMME algorithm to circumvent this warning.\n",
      "  warnings.warn(\n",
      "c:\\Users\\umert\\anaconda3\\envs\\bigdata_env\\lib\\site-packages\\sklearn\\utils\\validation.py:1339: DataConversionWarning: A column-vector y was passed when a 1d array was expected. Please change the shape of y to (n_samples, ), for example using ravel().\n",
      "  y = column_or_1d(y, warn=True)\n",
      "c:\\Users\\umert\\anaconda3\\envs\\bigdata_env\\lib\\site-packages\\sklearn\\ensemble\\_weight_boosting.py:527: FutureWarning: The SAMME.R algorithm (the default) is deprecated and will be removed in 1.6. Use the SAMME algorithm to circumvent this warning.\n",
      "  warnings.warn(\n",
      "c:\\Users\\umert\\anaconda3\\envs\\bigdata_env\\lib\\site-packages\\sklearn\\utils\\validation.py:1339: DataConversionWarning: A column-vector y was passed when a 1d array was expected. Please change the shape of y to (n_samples, ), for example using ravel().\n",
      "  y = column_or_1d(y, warn=True)\n",
      "c:\\Users\\umert\\anaconda3\\envs\\bigdata_env\\lib\\site-packages\\sklearn\\ensemble\\_weight_boosting.py:527: FutureWarning: The SAMME.R algorithm (the default) is deprecated and will be removed in 1.6. Use the SAMME algorithm to circumvent this warning.\n",
      "  warnings.warn(\n"
     ]
    },
    {
     "name": "stdout",
     "output_type": "stream",
     "text": [
      "Cross-validation scores AdaBoostClassifier: [0.93114475 0.93221062 0.9298657  0.92112556 0.92645491 0.93263696\n",
      " 0.92538904 0.92347048 0.92517587 0.92366738]\n",
      "mean_score_cv_adabc: 0.9271141263563717\n",
      "std_score_cv_adabc: 0.003853303976770112\n"
     ]
    },
    {
     "name": "stderr",
     "output_type": "stream",
     "text": [
      "c:\\Users\\umert\\anaconda3\\envs\\bigdata_env\\lib\\site-packages\\sklearn\\utils\\validation.py:1339: DataConversionWarning: A column-vector y was passed when a 1d array was expected. Please change the shape of y to (n_samples, ), for example using ravel().\n",
      "  y = column_or_1d(y, warn=True)\n",
      "c:\\Users\\umert\\anaconda3\\envs\\bigdata_env\\lib\\site-packages\\sklearn\\ensemble\\_weight_boosting.py:527: FutureWarning: The SAMME.R algorithm (the default) is deprecated and will be removed in 1.6. Use the SAMME algorithm to circumvent this warning.\n",
      "  warnings.warn(\n"
     ]
    },
    {
     "name": "stdout",
     "output_type": "stream",
     "text": [
      "AdaBoostClassifier model trained successfully.\n",
      "Training Accuracy of AdaBoostClassifier: 0.9274\n",
      "Test Accuracy of AdaBoostClassifier: 0.9239\n"
     ]
    }
   ],
   "source": [
    "adabc = AdaBoostClassifier(n_estimators=100, learning_rate=1.0, random_state=42)\n",
    "\n",
    "cv_scores_adabc = cross_val_score(adabc, x_train, y_train, cv=10)\n",
    "print(f\"Cross-validation scores AdaBoostClassifier: {cv_scores_adabc}\")\n",
    "\n",
    "mean_cv_score_adabc= cv_scores_adabc.mean()\n",
    "std_cv_score_adabc= cv_scores_adabc.std()\n",
    "print(f\"mean_score_cv_adabc:\", mean_cv_score_adabc)\n",
    "print(f\"std_score_cv_adabc:\" ,std_cv_score_adabc)\n",
    "\n",
    "adabc.fit(x_train, y_train)\n",
    "print(\"AdaBoostClassifier model trained successfully.\")\n",
    "\n",
    "y_train_pred_adabc =adabc.predict(x_train)\n",
    "train_accuracy_adabc = accuracy_score(y_train, y_train_pred_adabc)\n",
    "print(f\"Training Accuracy of AdaBoostClassifier: {train_accuracy_adabc:.4f}\")\n",
    "\n",
    "y_test_pred_adabc= adabc.predict(x_test)\n",
    "test_accuracy_adabc = accuracy_score(y_test, y_test_pred_adabc)\n",
    "print(f\"Test Accuracy of AdaBoostClassifier: {test_accuracy_adabc:.4f}\")"
   ]
  },
  {
   "cell_type": "markdown",
   "metadata": {},
   "source": [
    "**fitting GradientBoostingClassifier**"
   ]
  },
  {
   "cell_type": "code",
   "execution_count": 39,
   "metadata": {},
   "outputs": [
    {
     "name": "stderr",
     "output_type": "stream",
     "text": [
      "c:\\Users\\umert\\anaconda3\\envs\\bigdata_env\\lib\\site-packages\\sklearn\\preprocessing\\_label.py:114: DataConversionWarning: A column-vector y was passed when a 1d array was expected. Please change the shape of y to (n_samples, ), for example using ravel().\n",
      "  y = column_or_1d(y, warn=True)\n",
      "c:\\Users\\umert\\anaconda3\\envs\\bigdata_env\\lib\\site-packages\\sklearn\\preprocessing\\_label.py:114: DataConversionWarning: A column-vector y was passed when a 1d array was expected. Please change the shape of y to (n_samples, ), for example using ravel().\n",
      "  y = column_or_1d(y, warn=True)\n",
      "c:\\Users\\umert\\anaconda3\\envs\\bigdata_env\\lib\\site-packages\\sklearn\\preprocessing\\_label.py:114: DataConversionWarning: A column-vector y was passed when a 1d array was expected. Please change the shape of y to (n_samples, ), for example using ravel().\n",
      "  y = column_or_1d(y, warn=True)\n",
      "c:\\Users\\umert\\anaconda3\\envs\\bigdata_env\\lib\\site-packages\\sklearn\\preprocessing\\_label.py:114: DataConversionWarning: A column-vector y was passed when a 1d array was expected. Please change the shape of y to (n_samples, ), for example using ravel().\n",
      "  y = column_or_1d(y, warn=True)\n",
      "c:\\Users\\umert\\anaconda3\\envs\\bigdata_env\\lib\\site-packages\\sklearn\\preprocessing\\_label.py:114: DataConversionWarning: A column-vector y was passed when a 1d array was expected. Please change the shape of y to (n_samples, ), for example using ravel().\n",
      "  y = column_or_1d(y, warn=True)\n",
      "c:\\Users\\umert\\anaconda3\\envs\\bigdata_env\\lib\\site-packages\\sklearn\\preprocessing\\_label.py:114: DataConversionWarning: A column-vector y was passed when a 1d array was expected. Please change the shape of y to (n_samples, ), for example using ravel().\n",
      "  y = column_or_1d(y, warn=True)\n",
      "c:\\Users\\umert\\anaconda3\\envs\\bigdata_env\\lib\\site-packages\\sklearn\\preprocessing\\_label.py:114: DataConversionWarning: A column-vector y was passed when a 1d array was expected. Please change the shape of y to (n_samples, ), for example using ravel().\n",
      "  y = column_or_1d(y, warn=True)\n",
      "c:\\Users\\umert\\anaconda3\\envs\\bigdata_env\\lib\\site-packages\\sklearn\\preprocessing\\_label.py:114: DataConversionWarning: A column-vector y was passed when a 1d array was expected. Please change the shape of y to (n_samples, ), for example using ravel().\n",
      "  y = column_or_1d(y, warn=True)\n",
      "c:\\Users\\umert\\anaconda3\\envs\\bigdata_env\\lib\\site-packages\\sklearn\\preprocessing\\_label.py:114: DataConversionWarning: A column-vector y was passed when a 1d array was expected. Please change the shape of y to (n_samples, ), for example using ravel().\n",
      "  y = column_or_1d(y, warn=True)\n",
      "c:\\Users\\umert\\anaconda3\\envs\\bigdata_env\\lib\\site-packages\\sklearn\\preprocessing\\_label.py:114: DataConversionWarning: A column-vector y was passed when a 1d array was expected. Please change the shape of y to (n_samples, ), for example using ravel().\n",
      "  y = column_or_1d(y, warn=True)\n"
     ]
    },
    {
     "name": "stdout",
     "output_type": "stream",
     "text": [
      "Cross-validation scores GradientBoostingClassifier: [0.95288851 0.95779152 0.94862503 0.94585376 0.95096994 0.95288851\n",
      " 0.9496909  0.94691963 0.94713281 0.94840085]\n",
      "mean_score_cv_gbc: 0.9501161458293088\n",
      "std_score_cv_gbc: 0.003429937166158381\n"
     ]
    },
    {
     "name": "stderr",
     "output_type": "stream",
     "text": [
      "c:\\Users\\umert\\anaconda3\\envs\\bigdata_env\\lib\\site-packages\\sklearn\\preprocessing\\_label.py:114: DataConversionWarning: A column-vector y was passed when a 1d array was expected. Please change the shape of y to (n_samples, ), for example using ravel().\n",
      "  y = column_or_1d(y, warn=True)\n"
     ]
    },
    {
     "name": "stdout",
     "output_type": "stream",
     "text": [
      "GradientBoostingClassifier model trained successfully.\n",
      "Training Accuracy of GradientBoostingClassifier: 0.9515\n",
      "Test Accuracy of GradientBoostingClassifier: 0.9503\n"
     ]
    }
   ],
   "source": [
    "gbc = GradientBoostingClassifier(n_estimators=100, learning_rate=0.1, random_state=42)\n",
    "\n",
    "cv_scores_gbc = cross_val_score(gbc, x_train, y_train, cv=10)\n",
    "print(f\"Cross-validation scores GradientBoostingClassifier: {cv_scores_gbc}\")\n",
    "\n",
    "mean_cv_score_gbc= cv_scores_gbc.mean()\n",
    "std_cv_score_gbc= cv_scores_gbc.std()\n",
    "print(f\"mean_score_cv_gbc:\", mean_cv_score_gbc)\n",
    "print(f\"std_score_cv_gbc:\" ,std_cv_score_gbc)\n",
    "\n",
    "gbc.fit(x_train, y_train)\n",
    "print(\"GradientBoostingClassifier model trained successfully.\")\n",
    "\n",
    "y_train_pred_gbc =gbc.predict(x_train)\n",
    "train_accuracy_gbc = accuracy_score(y_train, y_train_pred_gbc)\n",
    "print(f\"Training Accuracy of GradientBoostingClassifier: {train_accuracy_gbc:.4f}\")\n",
    "\n",
    "y_test_pred_gbc= gbc.predict(x_test)\n",
    "test_accuracy_gbc = accuracy_score(y_test, y_test_pred_gbc)\n",
    "print(f\"Test Accuracy of GradientBoostingClassifier: {test_accuracy_gbc:.4f}\")"
   ]
  },
  {
   "cell_type": "markdown",
   "metadata": {},
   "source": [
    "| **Model**                | **Training Accuracy** | **Test Accuracy** | **CV Scores Mean** |\n",
    "|--------------------------|-----------------------|-------------------|--------------------|\n",
    "| Logistic Regression      | 0.9126                | 0.9107            | 0.9125             |\n",
    "| Linear SVC               | 0.9102                | 0.9082            | 0.9099             |\n",
    "| Random Forest            | 1.0000                | 0.9511            | 0.9513             |\n",
    "| **XGBoost**              | **0.9564**            | **0.9529**        | **0.9521**         |\n",
    "| AdaBoost                 | 0.9274                | 0.9239            | 0.9271             |\n",
    "| K-Nearest Neighbors      | 0.9463                | 0.9332            | 0.9323             |\n",
    "| Gradient Boosting        | 0.9515                | 0.9503            | 0.9501             |"
   ]
  },
  {
   "cell_type": "markdown",
   "metadata": {},
   "source": []
  },
  {
   "cell_type": "code",
   "execution_count": null,
   "metadata": {},
   "outputs": [],
   "source": []
  },
  {
   "cell_type": "code",
   "execution_count": null,
   "metadata": {},
   "outputs": [],
   "source": []
  },
  {
   "cell_type": "code",
   "execution_count": null,
   "metadata": {},
   "outputs": [],
   "source": []
  }
 ],
 "metadata": {
  "kernelspec": {
   "display_name": "bigdata_env",
   "language": "python",
   "name": "python3"
  },
  "language_info": {
   "codemirror_mode": {
    "name": "ipython",
    "version": 3
   },
   "file_extension": ".py",
   "mimetype": "text/x-python",
   "name": "python",
   "nbconvert_exporter": "python",
   "pygments_lexer": "ipython3",
   "version": "3.10.15"
  }
 },
 "nbformat": 4,
 "nbformat_minor": 2
}
